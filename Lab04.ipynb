{
  "nbformat": 4,
  "nbformat_minor": 0,
  "metadata": {
    "colab": {
      "name": "Lab04.ipynb",
      "provenance": [],
      "collapsed_sections": [],
      "authorship_tag": "ABX9TyOmSPqSD99OftrJpeeHyRxM",
      "include_colab_link": true
    },
    "kernelspec": {
      "name": "python3",
      "display_name": "Python 3"
    },
    "language_info": {
      "name": "python"
    }
  },
  "cells": [
    {
      "cell_type": "markdown",
      "metadata": {
        "id": "view-in-github",
        "colab_type": "text"
      },
      "source": [
        "<a href=\"https://colab.research.google.com/github/duytannguyen262/AdvancedPythonProgramming/blob/master/Lab04.ipynb\" target=\"_parent\"><img src=\"https://colab.research.google.com/assets/colab-badge.svg\" alt=\"Open In Colab\"/></a>"
      ]
    },
    {
      "cell_type": "markdown",
      "metadata": {
        "id": "bIB2m8fi1NNf"
      },
      "source": [
        "Bài 1"
      ]
    },
    {
      "cell_type": "code",
      "metadata": {
        "colab": {
          "base_uri": "https://localhost:8080/"
        },
        "id": "4enahMy00dMs",
        "outputId": "c293a11c-01e5-4f67-cc50-7fee6af35e37"
      },
      "source": [
        "def find_dups(givenList):\n",
        "  elem_set = set()\n",
        "  dups_set = set()\n",
        "  for entry in givenList:\n",
        "    len_initial = len(elem_set)\n",
        "    elem_set.add(entry)\n",
        "    len_after = len(elem_set)\n",
        "    if len_initial == len_after:\n",
        "      dups_set.add(entry)\n",
        "  return(dups_set)\n",
        "find_dups([1, 1, 2, 3, 4, 5, 5, 2])"
      ],
      "execution_count": 5,
      "outputs": [
        {
          "output_type": "execute_result",
          "data": {
            "text/plain": [
              "{1, 2, 5}"
            ]
          },
          "metadata": {},
          "execution_count": 5
        }
      ]
    },
    {
      "cell_type": "markdown",
      "metadata": {
        "id": "NQmFsjyR3bgF"
      },
      "source": [
        "Bài 3:"
      ]
    },
    {
      "cell_type": "code",
      "metadata": {
        "colab": {
          "base_uri": "https://localhost:8080/"
        },
        "id": "VMWqM7Z33eon",
        "outputId": "21bed31b-8f03-4c08-f1be-20e92535a690"
      },
      "source": [
        "def mating_pairs(males, females):\n",
        "  pairs = set()\n",
        "  num_gerbils = len(males)\n",
        "  for i in range(num_gerbils):\n",
        "    male = males.pop()\n",
        "    female = females.pop()\n",
        "    pairs.add((male, female),)\n",
        "  return pairs\n",
        "mating_pairs({'Male1', 'Male2', 'Male3'}, {'Female1', 'Female2', 'Female3'})"
      ],
      "execution_count": 8,
      "outputs": [
        {
          "output_type": "execute_result",
          "data": {
            "text/plain": [
              "{('Male1', 'Female1'), ('Male2', 'Female2'), ('Male3', 'Female3')}"
            ]
          },
          "metadata": {},
          "execution_count": 8
        }
      ]
    },
    {
      "cell_type": "markdown",
      "metadata": {
        "id": "i1ss6ptP7oVV"
      },
      "source": [
        "BÀI 4:"
      ]
    },
    {
      "cell_type": "code",
      "metadata": {
        "id": "LSNb1uCD7pp0"
      },
      "source": [
        "def get_authors(filenames):\n",
        "  authors = set()\n",
        "  for filename in filenames:\n",
        "    pdb_file = open(filename)\n",
        "    for line in pdb_file:\n",
        "      if line.lower().startswith('author'):\n",
        "        author = line[6:].strip()\n",
        "        authors.add(author)\n",
        "  return authors"
      ],
      "execution_count": null,
      "outputs": []
    },
    {
      "cell_type": "markdown",
      "metadata": {
        "id": "-uniQNQa96-p"
      },
      "source": [
        "BÀI 5:"
      ]
    },
    {
      "cell_type": "code",
      "metadata": {
        "colab": {
          "base_uri": "https://localhost:8080/"
        },
        "id": "WxykybYQ999y",
        "outputId": "d67ea488-d3ad-401a-bb52-7bc0aa867d23"
      },
      "source": [
        "def count_values(dictionary):\n",
        "  return len(set(dictionary.values()))\n",
        "count_values({'red': 1, 'green': 2, 'blue': 2})"
      ],
      "execution_count": 9,
      "outputs": [
        {
          "output_type": "execute_result",
          "data": {
            "text/plain": [
              "2"
            ]
          },
          "metadata": {},
          "execution_count": 9
        }
      ]
    },
    {
      "cell_type": "markdown",
      "metadata": {
        "id": "AIzEajGP_BJZ"
      },
      "source": [
        "BÀI 6:"
      ]
    },
    {
      "cell_type": "code",
      "metadata": {
        "colab": {
          "base_uri": "https://localhost:8080/",
          "height": 35
        },
        "id": "qqv-wDER_Fe9",
        "outputId": "bf126da1-d310-4a54-b1f9-f3f52e9f016f"
      },
      "source": [
        "def least_likely(particle_to_probability):\n",
        "  smallest = 1\n",
        "  name = ''\n",
        "  for particle in particle_to_probability:\n",
        "    probability = particle_to_probability[particle]\n",
        "    if probability < smallest:\n",
        "      smallest = probability\n",
        "      name = particle\n",
        "  return name\n",
        "least_likely({'neutron': 0.55, 'proton': 0.21, 'meson': 0.03, 'muon': 0.07, 'neutrino': 0.14})"
      ],
      "execution_count": 16,
      "outputs": [
        {
          "output_type": "execute_result",
          "data": {
            "application/vnd.google.colaboratory.intrinsic+json": {
              "type": "string"
            },
            "text/plain": [
              "'meson'"
            ]
          },
          "metadata": {},
          "execution_count": 16
        }
      ]
    },
    {
      "cell_type": "markdown",
      "metadata": {
        "id": "blMldiVNCnhe"
      },
      "source": [
        "BÀI 7:"
      ]
    },
    {
      "cell_type": "code",
      "metadata": {
        "colab": {
          "base_uri": "https://localhost:8080/"
        },
        "id": "PcHlk7sWCrro",
        "outputId": "74af60bb-2f78-47da-c956-ed641c37ff9b"
      },
      "source": [
        "def count_duplicates(dictionary):\n",
        "  duplicates = 0\n",
        "  values = list(dictionary.values())\n",
        "  for item in values:\n",
        "    if values.count(item) >= 2:\n",
        "      duplicates = duplicates + 1\n",
        "      num_occurrences = values.count(item)\n",
        "      for i in range(num_occurrences):\n",
        "        values.remove(item)\n",
        "  return duplicates\n",
        "count_duplicates({'R': 1, 'G': 2, 'B': 2, 'Y': 1, 'P': 3})\n"
      ],
      "execution_count": 21,
      "outputs": [
        {
          "output_type": "execute_result",
          "data": {
            "text/plain": [
              "2"
            ]
          },
          "metadata": {},
          "execution_count": 21
        }
      ]
    },
    {
      "cell_type": "markdown",
      "metadata": {
        "id": "gOotQZOaDxsf"
      },
      "source": [
        "BÀI 8:"
      ]
    },
    {
      "cell_type": "code",
      "metadata": {
        "colab": {
          "base_uri": "https://localhost:8080/"
        },
        "id": "4uyrxNAgDzre",
        "outputId": "77068501-4bda-476a-9929-c9994b8de26f"
      },
      "source": [
        "def is_balanced(color_to_factor):\n",
        "  values = list(color_to_factor.values())\n",
        "  total = sum(values)\n",
        "  return total == 1.0\n",
        "is_balanced({'R': 0.5, 'G': 0.4, 'B': 0.7})"
      ],
      "execution_count": 22,
      "outputs": [
        {
          "output_type": "execute_result",
          "data": {
            "text/plain": [
              "False"
            ]
          },
          "metadata": {},
          "execution_count": 22
        }
      ]
    },
    {
      "cell_type": "markdown",
      "metadata": {
        "id": "NMzTkul0D9ti"
      },
      "source": [
        "BÀI 9:"
      ]
    },
    {
      "cell_type": "code",
      "metadata": {
        "colab": {
          "base_uri": "https://localhost:8080/"
        },
        "id": "llfGGZZqEBJ3",
        "outputId": "ac81e5e5-e45e-4fef-807b-8e72dc3e66c6"
      },
      "source": [
        "def dict_interest(dict1, dict2):\n",
        "  intersection = {}\n",
        "  for (key, value) in dict1.items():\n",
        "    if key in dict2 and value == dict2[key]:\n",
        "      intersection[key] = value\n",
        "  return intersection\n",
        "dict_interest({'a': 1, 'b': 2, 'c': 3}, {'a': 1, 'd': 2, 'b': 2})"
      ],
      "execution_count": 24,
      "outputs": [
        {
          "output_type": "execute_result",
          "data": {
            "text/plain": [
              "{'a': 1, 'b': 2}"
            ]
          },
          "metadata": {},
          "execution_count": 24
        }
      ]
    },
    {
      "cell_type": "markdown",
      "metadata": {
        "id": "ZX4fHRLsGlzk"
      },
      "source": [
        "BÀI 10:"
      ]
    },
    {
      "cell_type": "code",
      "metadata": {
        "colab": {
          "base_uri": "https://localhost:8080/"
        },
        "id": "jmTpIQGmGoKL",
        "outputId": "59d7e7c4-3b31-426c-f172-2f394a36a2e2"
      },
      "source": [
        "def db_headings(dict_of_dict):\n",
        "  inner_keys = set()\n",
        "  for key in dict_of_dict:\n",
        "    for inner_key in dict_of_dict[key]:\n",
        "      inner_keys.add(inner_key)\n",
        "  return inner_keys\n",
        "db_headings({'A': {1: 'a', 2: 'b'}, 'B': {2: 'c', 3: 'd'}})"
      ],
      "execution_count": 25,
      "outputs": [
        {
          "output_type": "execute_result",
          "data": {
            "text/plain": [
              "{1, 2, 3}"
            ]
          },
          "metadata": {},
          "execution_count": 25
        }
      ]
    },
    {
      "cell_type": "markdown",
      "metadata": {
        "id": "0HSvgRQzG5pw"
      },
      "source": [
        "BÀI 11:"
      ]
    },
    {
      "cell_type": "code",
      "metadata": {
        "colab": {
          "base_uri": "https://localhost:8080/"
        },
        "id": "mKe-9vIfG6t2",
        "outputId": "87ddf060-6bde-4590-ff9d-6774534c4319"
      },
      "source": [
        "def db_consistent(dict_of_dict):\n",
        "  inner_keys_list = []\n",
        "  # Build a list of list of keys\n",
        "  for key in dict_of_dict:\n",
        "    inner_keys = list(dict_of_dict[key].keys())\n",
        "    inner_keys.sort()\n",
        "    inner_keys_list.append(inner_keys)\n",
        "  for i in range(1, len(inner_keys_list)):\n",
        "    # If the number of keys is different.\n",
        "    if len(inner_keys_list[0]) != len(inner_keys_list[i]):\n",
        "      return False\n",
        "    # If the keys don't match.\n",
        "    for j in range(len(inner_keys_list[0])):\n",
        "      if inner_keys_list[0][j] != inner_keys_list[i][j]:\n",
        "        return False\n",
        "  return True\n",
        "db_consistent({'A': {1: 'a', 2: 'b'}, 'B': {2: 'c', 3: 'd'}})"
      ],
      "execution_count": 26,
      "outputs": [
        {
          "output_type": "execute_result",
          "data": {
            "text/plain": [
              "False"
            ]
          },
          "metadata": {},
          "execution_count": 26
        }
      ]
    },
    {
      "cell_type": "markdown",
      "metadata": {
        "id": "WzP_jiusIALA"
      },
      "source": [
        "BÀI 12:"
      ]
    },
    {
      "cell_type": "markdown",
      "metadata": {
        "id": "b3dAwAj3IGrW"
      },
      "source": [
        "Câu A:"
      ]
    },
    {
      "cell_type": "code",
      "metadata": {
        "colab": {
          "base_uri": "https://localhost:8080/"
        },
        "id": "0zAiZ4GAIL2T",
        "outputId": "6d13f418-89b5-4714-e694-fd9618e81f21"
      },
      "source": [
        "def sparse_add(vector1, vector2):\n",
        "  sum_vector = vector1.copy()\n",
        "  for key in vector2:\n",
        "    if key in sum_vector:\n",
        "      sum_vector[key] = sum_vector[key] + vector2[key]\n",
        "    else:\n",
        "      sum_vector[key] = vector2[key]\n",
        "  return sum_vector\n",
        "sparse_add({1: 3, 3: 4}, {2: 4, 3: 5, 5: 6})"
      ],
      "execution_count": 27,
      "outputs": [
        {
          "output_type": "execute_result",
          "data": {
            "text/plain": [
              "{1: 3, 2: 4, 3: 9, 5: 6}"
            ]
          },
          "metadata": {},
          "execution_count": 27
        }
      ]
    },
    {
      "cell_type": "markdown",
      "metadata": {
        "id": "sLCIq03tJIk2"
      },
      "source": [
        "Câu B:"
      ]
    },
    {
      "cell_type": "code",
      "metadata": {
        "colab": {
          "base_uri": "https://localhost:8080/"
        },
        "id": "ukCYfMwcJKkF",
        "outputId": "5e47dc60-ca2e-4353-e556-4f8907cb16e3"
      },
      "source": [
        "def sparse_dot(vector1, vector2):\n",
        "  dot = 0\n",
        "  for key1 in vector1:\n",
        "    if key1 in vector2:\n",
        "      dot = dot + vector1[key1] * vector2[key1]\n",
        "  return dot\n",
        "sparse_dot({1: 3, 3: 4}, {2: 4, 3: 5, 5: 6})"
      ],
      "execution_count": 28,
      "outputs": [
        {
          "output_type": "execute_result",
          "data": {
            "text/plain": [
              "20"
            ]
          },
          "metadata": {},
          "execution_count": 28
        }
      ]
    }
  ]
}